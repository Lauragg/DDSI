{
  "nbformat": 4,
  "nbformat_minor": 0,
  "metadata": {
    "colab": {
      "name": "parcela159_162.ipynb",
      "provenance": [],
      "authorship_tag": "ABX9TyPThMQsnZqd7ddzP4jQTxem",
      "include_colab_link": true
    },
    "kernelspec": {
      "name": "python3",
      "display_name": "Python 3"
    }
  },
  "cells": [
    {
      "cell_type": "markdown",
      "metadata": {
        "id": "view-in-github",
        "colab_type": "text"
      },
      "source": [
        "<a href=\"https://colab.research.google.com/github/Lauragg/DDSI/blob/master/parcela159_162.ipynb\" target=\"_parent\"><img src=\"https://colab.research.google.com/assets/colab-badge.svg\" alt=\"Open In Colab\"/></a>"
      ]
    },
    {
      "cell_type": "markdown",
      "metadata": {
        "id": "QIodOolzlIJ9"
      },
      "source": [
        "# Visualización del código de Google Earth Engine en Colab\n",
        "\n",
        "Primer importamos el paquete y vemos qué versión poseemos.\n",
        "\n",
        "En caso de estar en local y no en Colab, se debe de realizar la instalación mediante:\n",
        "\n",
        "- Python\n",
        "```pip install earthengine-api --upgrade```\n",
        "\n",
        "- Conda\n",
        "```conda update -c conda-forge earthengine-api```\n",
        "\n",
        "Nota: Esto esta escrito para Python, el código original de Paula estaba en Javascript"
      ]
    },
    {
      "cell_type": "code",
      "metadata": {
        "colab": {
          "base_uri": "https://localhost:8080/"
        },
        "id": "_7PHXFYhjz8k",
        "outputId": "291d5d33-acfc-4d32-d7d8-215411154dd6"
      },
      "source": [
        "import ee\n",
        "print(ee.__version__)"
      ],
      "execution_count": 1,
      "outputs": [
        {
          "output_type": "stream",
          "text": [
            "0.1.238\n"
          ],
          "name": "stdout"
        }
      ]
    },
    {
      "cell_type": "markdown",
      "metadata": {
        "id": "NNR8DtENn3Sn"
      },
      "source": [
        "Autenticamos e inicializamos Google Earth Engine."
      ]
    },
    {
      "cell_type": "code",
      "metadata": {
        "colab": {
          "base_uri": "https://localhost:8080/"
        },
        "id": "D9qkCUign4HO",
        "outputId": "9d2edbef-d40b-46d0-9409-6090f15a0a3e"
      },
      "source": [
        "ee.Authenticate()\n",
        "ee.Initialize()"
      ],
      "execution_count": 6,
      "outputs": [
        {
          "output_type": "stream",
          "text": [
            "To authorize access needed by Earth Engine, open the following URL in a web browser and follow the instructions. If the web browser does not start automatically, please manually browse the URL below.\n",
            "\n",
            "    https://accounts.google.com/o/oauth2/auth?client_id=517222506229-vsmmajv00ul0bs7p89v5m89qs8eb9359.apps.googleusercontent.com&scope=https%3A%2F%2Fwww.googleapis.com%2Fauth%2Fearthengine+https%3A%2F%2Fwww.googleapis.com%2Fauth%2Fdevstorage.full_control&redirect_uri=urn%3Aietf%3Awg%3Aoauth%3A2.0%3Aoob&response_type=code&code_challenge=DfvpmaK9u6msAYBeE8cCWnZvLY2MdN2OUkYabhA7y4w&code_challenge_method=S256\n",
            "\n",
            "The authorization workflow will generate a code, which you should paste in the box below. \n",
            "Enter verification code: 4/1AY0e-g4JH0kd9oIxIvLNtiI8Bpb-T-0TQG0qcmgAYyXCH4U5G6Bt6vMvT4I\n",
            "\n",
            "Successfully saved authorization token.\n"
          ],
          "name": "stdout"
        }
      ]
    },
    {
      "cell_type": "markdown",
      "metadata": {
        "id": "imRYZUJSpE09"
      },
      "source": [
        "Almacenamos en una tabla los datos del asset al que queramos acceder. Nótese que este debe de estar almacenado en nuestro usuario al que habremos accedido en el anterior punto."
      ]
    },
    {
      "cell_type": "code",
      "metadata": {
        "id": "all_XHyXm1BJ"
      },
      "source": [
        "table = ee.FeatureCollection(\"users/elauragogar/parcelas159_162\");"
      ],
      "execution_count": 7,
      "outputs": []
    },
    {
      "cell_type": "code",
      "metadata": {
        "id": "VExl4Be2nuWS"
      },
      "source": [
        "IMGSentinel= (ee.ImageCollection ('COPERNICUS/S2_SR')\n",
        "  .filterDate ('2019-06-20', '2019-06-30') #//fechas disponibles ('2015-07-01' - actualidad)\n",
        "  .filterBounds (table) \n",
        "  .filterMetadata ('CLOUD_COVERAGE_ASSESSMENT', 'Less_Than', 30));\n",
        "SentinelFiltro = ee.Image(IMGSentinel.first()); #//si pongo first me descargara la 1ª del periodo\n",
        "SentinelClip = SentinelFiltro.clip (table);\n",
        "ndvi = SentinelFiltro.normalizedDifference(['B8', 'B4']);\n",
        "\n",
        "NdviClip = ndvi.clip (table);\n",
        "#Map.centerObject (table,15);\n",
        "visparamNDVI =  { \n",
        "  'min':0, 'max':1, \n",
        "  'palette' : ['FFFFFF', 'CE7E45', 'DF923D', 'F1B555', 'FCD163', '99B718',\n",
        "               '74A901', '66A000', '529400', '3E8601', '207401', '056201',\n",
        "               '004C00', '023B01', '012E01', '011D01', '011301']}\n",
        "\n",
        "#Map.addLayer(NdviClip,visparamNDVI,'NDVI-table',true)\n",
        "\n",
        "\n",
        "\n",
        "ee.batch.Export.image.to(\n",
        "  image= NdviClip,\n",
        "  description= \"NDVI27junio\",\n",
        "  scale= 10,\n",
        "  region= table\n",
        ");"
      ],
      "execution_count": 15,
      "outputs": []
    },
    {
      "cell_type": "code",
      "metadata": {
        "id": "kRHOHyL9psRh"
      },
      "source": [
        ""
      ],
      "execution_count": null,
      "outputs": []
    }
  ]
}